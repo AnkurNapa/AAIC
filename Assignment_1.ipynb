{
  "nbformat": 4,
  "nbformat_minor": 0,
  "metadata": {
    "kernelspec": {
      "display_name": "Python 3",
      "language": "python",
      "name": "python3"
    },
    "language_info": {
      "codemirror_mode": {
        "name": "ipython",
        "version": 3
      },
      "file_extension": ".py",
      "mimetype": "text/x-python",
      "name": "python",
      "nbconvert_exporter": "python",
      "pygments_lexer": "ipython3",
      "version": "3.7.3"
    },
    "colab": {
      "name": "Assignment #1.ipynb",
      "provenance": [],
      "include_colab_link": true
    }
  },
  "cells": [
    {
      "cell_type": "markdown",
      "metadata": {
        "id": "view-in-github",
        "colab_type": "text"
      },
      "source": [
        "<a href=\"https://colab.research.google.com/github/AnkurNapa/AAIC/blob/master/Assignment_1.ipynb\" target=\"_parent\"><img src=\"https://colab.research.google.com/assets/colab-badge.svg\" alt=\"Open In Colab\"/></a>"
      ]
    },
    {
      "cell_type": "code",
      "metadata": {
        "collapsed": true,
        "id": "GEgFpzEsYrC2"
      },
      "source": [
        "# List of order ID’s which are processed \n",
        "processed_orders = [1152, 1154, 1155, 1156, 1157, 1160, 1161, 1162, 1166, 1169, 1170, 1172, 1176, 1050, 1178, 1051, 1052, 1054, 1058, 1060, 1061, 1062, 1065, 1066, 1067, 1068, 1069, 1076, 1077, 1080, 1081, 1083, 1091, 1085, 1088, 1089, 1131, 1092, 1094, 1095, 1099, 1102, 1103, 1104, 1106, 1107, 1108, 1109, 1111, 1117, 1119, 1121, 1150, 1128, 1129, 1136, 1137, 1139, 1140, 1141, 1144, 1148, 1124]\n",
        "\n",
        "# List of order ID’s which are returned\n",
        "returned_orders = [1153, 1158, 1159, 1163, 1164, 1165, 1167, 1168, 1171, 1173, 1174, 1175, 1177, 1053, 1055, 1056, 1057, 1059, 1063, 1064, 1070, 1071, 1072, 1073, 1074, 1075, 1078, 1079, 1082, 1084, 1086, 1087, 1090, 1093, 1096, 1097, 1098, 1100, 1101, 1105, 1110, 1112, 1113, 1114, 1115, 1116, 1118, 1120, 1122, 1123, 1125, 1126, 1127, 1130, 1132, 1133, 1134, 1135, 1138, 1142, 1143, 1145, 1146, 1147, 1149, 1151]\n",
        "\n",
        "# Consider the information available in the above two lists and answer the question given below"
      ],
      "execution_count": 1,
      "outputs": []
    },
    {
      "cell_type": "markdown",
      "metadata": {
        "id": "gSbkLQVxYrC4"
      },
      "source": [
        "#### Count the total number of orders [ Orders include both processed and returned orders]\n",
        "\n",
        "- 63\n",
        "- 66\n",
        "- 126\n",
        "- 129"
      ]
    },
    {
      "cell_type": "code",
      "metadata": {
        "collapsed": true,
        "id": "VFwqGkcuYrC4",
        "outputId": "e486aba9-2f69-490d-c67d-83c89cc871ef",
        "colab": {
          "base_uri": "https://localhost:8080/"
        }
      },
      "source": [
        "# Type your code here\n",
        "len(processed_orders + returned_orders)"
      ],
      "execution_count": 4,
      "outputs": [
        {
          "output_type": "execute_result",
          "data": {
            "text/plain": [
              "129"
            ]
          },
          "metadata": {
            "tags": []
          },
          "execution_count": 4
        }
      ]
    },
    {
      "cell_type": "markdown",
      "metadata": {
        "id": "Bnh-SSA6YrC5"
      },
      "source": [
        "#### In the total orders, identify the 50th order [ Note: Assume the order ID’s are being generated in a consecutive manner]\n",
        "\n",
        "- 1152\n",
        "- 1099\n",
        "- 1154\n",
        "- 1100\n"
      ]
    },
    {
      "cell_type": "code",
      "metadata": {
        "collapsed": true,
        "id": "XgbDWRhwYrC5"
      },
      "source": [
        "# Type your code here"
      ],
      "execution_count": null,
      "outputs": []
    },
    {
      "cell_type": "code",
      "metadata": {
        "collapsed": true,
        "id": "A6zhCoKUYrC5"
      },
      "source": [
        "a = processed_orders + returned_orders\n",
        "a.sort()"
      ],
      "execution_count": 12,
      "outputs": []
    },
    {
      "cell_type": "code",
      "metadata": {
        "collapsed": true,
        "id": "4MUjID_WYrC5",
        "outputId": "5da10a63-ef08-407b-a74d-85f6786ed6ef",
        "colab": {
          "base_uri": "https://localhost:8080/"
        }
      },
      "source": [
        "d= a[49]\n",
        "d"
      ],
      "execution_count": 15,
      "outputs": [
        {
          "output_type": "execute_result",
          "data": {
            "text/plain": [
              "1099"
            ]
          },
          "metadata": {
            "tags": []
          },
          "execution_count": 15
        }
      ]
    },
    {
      "cell_type": "markdown",
      "metadata": {
        "id": "IO9mBM8TYrC6"
      },
      "source": [
        "#### Is 50th order a returned order or processed order?\n",
        "\n",
        "- Returned Order\n",
        "- Processed Order\n"
      ]
    },
    {
      "cell_type": "code",
      "metadata": {
        "id": "PC3dr3c3IqTF",
        "outputId": "155cd8d5-2d53-45e4-8e45-08ef89b08905",
        "colab": {
          "base_uri": "https://localhost:8080/"
        }
      },
      "source": [
        "d in returned_orders"
      ],
      "execution_count": 16,
      "outputs": [
        {
          "output_type": "execute_result",
          "data": {
            "text/plain": [
              "False"
            ]
          },
          "metadata": {
            "tags": []
          },
          "execution_count": 16
        }
      ]
    },
    {
      "cell_type": "code",
      "metadata": {
        "id": "xE3FZ9L_I1zQ",
        "outputId": "83a45faa-5c3b-43b5-c398-7ade697d75c4",
        "colab": {
          "base_uri": "https://localhost:8080/"
        }
      },
      "source": [
        "d in processed_orders"
      ],
      "execution_count": 17,
      "outputs": [
        {
          "output_type": "execute_result",
          "data": {
            "text/plain": [
              "True"
            ]
          },
          "metadata": {
            "tags": []
          },
          "execution_count": 17
        }
      ]
    },
    {
      "cell_type": "markdown",
      "metadata": {
        "id": "8qVR-_URYrC6"
      },
      "source": [
        "#### What is the last processed order ID ? [ Note: Assume the order ID’s are being generated in a consecutive manner]\n",
        "\n",
        "- 1050\n",
        "- 1178\n",
        "- 1124\n",
        "- 1177\n",
        "\n"
      ]
    },
    {
      "cell_type": "code",
      "metadata": {
        "collapsed": true,
        "id": "OcH6znQ7YrC6"
      },
      "source": [
        "processed_orders.sort()"
      ],
      "execution_count": 25,
      "outputs": []
    },
    {
      "cell_type": "code",
      "metadata": {
        "id": "UtZDvYLvJ-nd",
        "outputId": "3907b831-79e2-445e-be59-2e3dbf010623",
        "colab": {
          "base_uri": "https://localhost:8080/"
        }
      },
      "source": [
        "processed_orders[-1]"
      ],
      "execution_count": 26,
      "outputs": [
        {
          "output_type": "execute_result",
          "data": {
            "text/plain": [
              "1178"
            ]
          },
          "metadata": {
            "tags": []
          },
          "execution_count": 26
        }
      ]
    },
    {
      "cell_type": "markdown",
      "metadata": {
        "id": "0fg50ipxYrC7"
      },
      "source": [
        "#### Identify the first 4 orders which are processed?\n",
        "\n",
        "- 1152, 1154, 1155, 1156\n",
        "- 1051, 1152, 1153, 1154\n",
        "- 1050, 1051, 1052, 1054\n",
        "- 1050, 1051, 1052, 1053"
      ]
    },
    {
      "cell_type": "code",
      "metadata": {
        "id": "rLqTgeGGLfLC"
      },
      "source": [
        "processed_orders.sort()"
      ],
      "execution_count": 35,
      "outputs": []
    },
    {
      "cell_type": "code",
      "metadata": {
        "id": "0rFpnvOZNve9",
        "outputId": "e40e9c53-07ec-4160-dea4-3ef64f877530",
        "colab": {
          "base_uri": "https://localhost:8080/"
        }
      },
      "source": [
        "processed_orders[0:4]"
      ],
      "execution_count": 38,
      "outputs": [
        {
          "output_type": "execute_result",
          "data": {
            "text/plain": [
              "[1050, 1051, 1052, 1054]"
            ]
          },
          "metadata": {
            "tags": []
          },
          "execution_count": 38
        }
      ]
    }
  ]
}