{
  "nbformat": 4,
  "nbformat_minor": 0,
  "metadata": {
    "kernelspec": {
      "display_name": "Python 3",
      "language": "python",
      "name": "python3"
    },
    "language_info": {
      "codemirror_mode": {
        "name": "ipython",
        "version": 3
      },
      "file_extension": ".py",
      "mimetype": "text/x-python",
      "name": "python",
      "nbconvert_exporter": "python",
      "pygments_lexer": "ipython3",
      "version": "3.7.3"
    },
    "colab": {
      "name": "Practice Questions.ipynb",
      "provenance": [],
      "include_colab_link": true
    }
  },
  "cells": [
    {
      "cell_type": "markdown",
      "metadata": {
        "id": "view-in-github",
        "colab_type": "text"
      },
      "source": [
        "<a href=\"https://colab.research.google.com/github/AnkurNapa/AAIC/blob/master/Practice_Questions.ipynb\" target=\"_parent\"><img src=\"https://colab.research.google.com/assets/colab-badge.svg\" alt=\"Open In Colab\"/></a>"
      ]
    },
    {
      "cell_type": "markdown",
      "metadata": {
        "id": "T69Krk94ZEHz"
      },
      "source": [
        "##### Q1\n",
        "\n",
        "What will the output be of ((500//7) % 5) ** 3?"
      ]
    },
    {
      "cell_type": "markdown",
      "metadata": {
        "id": "zzEi17RODtDP"
      },
      "source": [
        "1"
      ]
    },
    {
      "cell_type": "markdown",
      "metadata": {
        "id": "lJwG1k42ZEH1"
      },
      "source": [
        "##### Q2\n",
        "\n",
        "How will you extract ‘love’ from the string S = “I love Python”? (More than one option may be correct.)."
      ]
    },
    {
      "cell_type": "markdown",
      "metadata": {
        "id": "kfcR45oYD7Le"
      },
      "source": [
        "S[2:6] , S[-11,7]"
      ]
    },
    {
      "cell_type": "markdown",
      "metadata": {
        "id": "pqoaPclKZEH1"
      },
      "source": [
        "##### Q3\n",
        "\n",
        "What will the output of 3 * 3 ** 3 be?"
      ]
    },
    {
      "cell_type": "markdown",
      "metadata": {
        "id": "0aEyOz4XELpq"
      },
      "source": [
        "81"
      ]
    },
    {
      "cell_type": "markdown",
      "metadata": {
        "id": "VErIJf6qZEH1"
      },
      "source": [
        "##### Q4\n",
        "\n",
        "If you have a tuple T = (3, 5, 7, 11), what will the output of T.append(9) be?"
      ]
    },
    {
      "cell_type": "markdown",
      "metadata": {
        "id": "nxzuS9YbEi8c"
      },
      "source": [
        "Tuples are immutable, i.e. once a tuple is created, you cannot alter it. This is why if you attempt to append a value to the tuple in the question, Python will throw an error."
      ]
    },
    {
      "cell_type": "markdown",
      "metadata": {
        "id": "hCRZYlv3ZEH2"
      },
      "source": [
        "##### Q5\n",
        "\n",
        "What will the output of the following program be?\n",
        "\n",
        "L1 = ['Vikas', 'Akshay', 'Sanskar', 'Mahima']\n",
        "\n",
        "print(L1[1][-1])"
      ]
    },
    {
      "cell_type": "markdown",
      "metadata": {
        "id": "i0q6GLpPEuq2"
      },
      "source": [
        "y"
      ]
    },
    {
      "cell_type": "markdown",
      "metadata": {
        "id": "Bx63nRJGZEH2"
      },
      "source": [
        "##### Q6\n",
        "\n",
        "What will be the output ?\n",
        "\n",
        "l = [32, 34, 12, 27, 33]\n",
        "\n",
        "l.append([14, 19])\n",
        "\n",
        "print(len(l))"
      ]
    },
    {
      "cell_type": "markdown",
      "metadata": {
        "id": "VLMx0oT-E6et"
      },
      "source": [
        "6"
      ]
    },
    {
      "cell_type": "code",
      "metadata": {
        "id": "eTQ4POJtE9L0"
      },
      "source": [
        ""
      ],
      "execution_count": null,
      "outputs": []
    }
  ]
}